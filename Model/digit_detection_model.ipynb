{
  "cells": [
    {
      "cell_type": "markdown",
      "metadata": {
        "id": "P2gdBD0sDTq5"
      },
      "source": [
        "# Team 14"
      ]
    },
    {
      "cell_type": "code",
      "execution_count": 27,
      "metadata": {
        "id": "nLQlExFgDTq9"
      },
      "outputs": [],
      "source": [
        "import os\n",
        "import numpy as np\n",
        "import matplotlib.pyplot as plt\n",
        "from tensorflow.keras.preprocessing import image\n",
        "from tensorflow.keras.preprocessing.image import ImageDataGenerator\n",
        "from tensorflow.keras.models import Sequential\n",
        "from tensorflow.keras.layers import Conv2D, MaxPooling2D, Flatten, Dense, Dropout\n"
      ]
    },
    {
      "cell_type": "markdown",
      "metadata": {
        "id": "QHOe5DqHDTq_"
      },
      "source": [
        "# Define constants\n"
      ]
    },
    {
      "cell_type": "code",
      "execution_count": 28,
      "metadata": {
        "id": "W2NxkXqzDTq_"
      },
      "outputs": [],
      "source": [
        "IMAGE_SIZE = (28, 28)\n",
        "BATCH_SIZE = 64\n",
        "NUM_CLASSES = 10\n",
        "EPOCHS = 30\n",
        "TRAINING_SET_PATH = '/data/data/trainingSet'\n"
      ]
    },
    {
      "cell_type": "markdown",
      "metadata": {
        "id": "I_oDgdwxDTrA"
      },
      "source": [
        "# Load images using ImageDataGenerator\n"
      ]
    },
    {
      "cell_type": "code",
      "execution_count": 29,
      "metadata": {
        "colab": {
          "base_uri": "https://localhost:8080/"
        },
        "id": "gcMee0AsDTrA",
        "outputId": "a32db9ee-7223-402c-b5b4-ed483392616a"
      },
      "outputs": [
        {
          "output_type": "stream",
          "name": "stdout",
          "text": [
            "Found 33604 images belonging to 10 classes.\n",
            "Found 8396 images belonging to 10 classes.\n"
          ]
        }
      ],
      "source": [
        "\n",
        "train_datagen = ImageDataGenerator(rescale=1. / 255, validation_split=0.2)\n",
        "\n",
        "train_generator = train_datagen.flow_from_directory(\n",
        "    TRAINING_SET_PATH,\n",
        "    target_size=IMAGE_SIZE,\n",
        "    batch_size=BATCH_SIZE,\n",
        "    class_mode='categorical',\n",
        "    subset='training'\n",
        ")\n",
        "\n",
        "validation_generator = train_datagen.flow_from_directory(\n",
        "    TRAINING_SET_PATH,\n",
        "    target_size=IMAGE_SIZE,\n",
        "    batch_size=BATCH_SIZE,\n",
        "    class_mode='categorical',\n",
        "    subset='validation'\n",
        ")\n"
      ]
    },
    {
      "cell_type": "markdown",
      "metadata": {
        "id": "onkGVNlJDTrB"
      },
      "source": [
        "# Define the CNN model\n"
      ]
    },
    {
      "cell_type": "code",
      "execution_count": 30,
      "metadata": {
        "id": "44jCy4WMDTrB"
      },
      "outputs": [],
      "source": [
        "model = Sequential([\n",
        "    Conv2D(32, (3, 3), activation='relu', input_shape=(*IMAGE_SIZE, 3)),\n",
        "    MaxPooling2D(pool_size=(2, 2)),\n",
        "    Conv2D(64, (3, 3), activation='relu'),\n",
        "    MaxPooling2D(pool_size=(2, 2)),\n",
        "    Flatten(),\n",
        "    Dense(128, activation='relu'),\n",
        "    Dropout(0.5),\n",
        "    Dense(NUM_CLASSES, activation='softmax')\n",
        "])\n"
      ]
    },
    {
      "cell_type": "markdown",
      "metadata": {
        "id": "pfLWYtlYDTrC"
      },
      "source": [
        "# Compile the model\n"
      ]
    },
    {
      "cell_type": "code",
      "execution_count": 31,
      "metadata": {
        "id": "OpPkmpnJDTrC"
      },
      "outputs": [],
      "source": [
        "model.compile(optimizer='adam', loss='categorical_crossentropy', metrics=['accuracy'])\n"
      ]
    },
    {
      "cell_type": "markdown",
      "metadata": {
        "id": "StAqc5_FDTrC"
      },
      "source": [
        "# Train the model\n"
      ]
    },
    {
      "cell_type": "code",
      "execution_count": 32,
      "metadata": {
        "colab": {
          "base_uri": "https://localhost:8080/"
        },
        "id": "kLXRM4HaDTrD",
        "outputId": "e4a99a79-e7c4-4aa0-c304-4129fdf2a9aa"
      },
      "outputs": [
        {
          "output_type": "stream",
          "name": "stdout",
          "text": [
            "Epoch 1/30\n",
            "525/525 [==============================] - 46s 86ms/step - loss: 0.3037 - accuracy: 0.9062 - val_loss: 0.0718 - val_accuracy: 0.9781\n",
            "Epoch 2/30\n",
            "525/525 [==============================] - 34s 65ms/step - loss: 0.1028 - accuracy: 0.9702 - val_loss: 0.0478 - val_accuracy: 0.9841\n",
            "Epoch 3/30\n",
            "525/525 [==============================] - 35s 67ms/step - loss: 0.0723 - accuracy: 0.9777 - val_loss: 0.0415 - val_accuracy: 0.9870\n",
            "Epoch 4/30\n",
            "525/525 [==============================] - 35s 67ms/step - loss: 0.0572 - accuracy: 0.9832 - val_loss: 0.0413 - val_accuracy: 0.9870\n",
            "Epoch 5/30\n",
            "525/525 [==============================] - 35s 66ms/step - loss: 0.0481 - accuracy: 0.9846 - val_loss: 0.0389 - val_accuracy: 0.9884\n",
            "Epoch 6/30\n",
            "525/525 [==============================] - 33s 63ms/step - loss: 0.0417 - accuracy: 0.9869 - val_loss: 0.0332 - val_accuracy: 0.9903\n",
            "Epoch 7/30\n",
            "525/525 [==============================] - 35s 67ms/step - loss: 0.0366 - accuracy: 0.9877 - val_loss: 0.0362 - val_accuracy: 0.9899\n",
            "Epoch 8/30\n",
            "525/525 [==============================] - 34s 65ms/step - loss: 0.0314 - accuracy: 0.9894 - val_loss: 0.0368 - val_accuracy: 0.9878\n",
            "Epoch 9/30\n",
            "525/525 [==============================] - 34s 65ms/step - loss: 0.0285 - accuracy: 0.9905 - val_loss: 0.0305 - val_accuracy: 0.9920\n",
            "Epoch 10/30\n",
            "525/525 [==============================] - 35s 67ms/step - loss: 0.0261 - accuracy: 0.9910 - val_loss: 0.0393 - val_accuracy: 0.9895\n",
            "Epoch 11/30\n",
            "525/525 [==============================] - 34s 65ms/step - loss: 0.0230 - accuracy: 0.9926 - val_loss: 0.0347 - val_accuracy: 0.9902\n",
            "Epoch 12/30\n",
            "525/525 [==============================] - 36s 68ms/step - loss: 0.0211 - accuracy: 0.9933 - val_loss: 0.0378 - val_accuracy: 0.9902\n",
            "Epoch 13/30\n",
            "525/525 [==============================] - 38s 73ms/step - loss: 0.0189 - accuracy: 0.9941 - val_loss: 0.0358 - val_accuracy: 0.9920\n",
            "Epoch 14/30\n",
            "525/525 [==============================] - 35s 67ms/step - loss: 0.0198 - accuracy: 0.9938 - val_loss: 0.0363 - val_accuracy: 0.9914\n",
            "Epoch 15/30\n",
            "525/525 [==============================] - 35s 67ms/step - loss: 0.0156 - accuracy: 0.9948 - val_loss: 0.0428 - val_accuracy: 0.9895\n",
            "Epoch 16/30\n",
            "525/525 [==============================] - 35s 67ms/step - loss: 0.0164 - accuracy: 0.9944 - val_loss: 0.0440 - val_accuracy: 0.9900\n",
            "Epoch 17/30\n",
            "525/525 [==============================] - 34s 65ms/step - loss: 0.0161 - accuracy: 0.9946 - val_loss: 0.0383 - val_accuracy: 0.9914\n",
            "Epoch 18/30\n",
            "525/525 [==============================] - 35s 67ms/step - loss: 0.0135 - accuracy: 0.9953 - val_loss: 0.0371 - val_accuracy: 0.9913\n",
            "Epoch 19/30\n",
            "525/525 [==============================] - 33s 63ms/step - loss: 0.0132 - accuracy: 0.9955 - val_loss: 0.0394 - val_accuracy: 0.9908\n",
            "Epoch 20/30\n",
            "525/525 [==============================] - 35s 67ms/step - loss: 0.0162 - accuracy: 0.9946 - val_loss: 0.0330 - val_accuracy: 0.9928\n",
            "Epoch 21/30\n",
            "525/525 [==============================] - 34s 64ms/step - loss: 0.0104 - accuracy: 0.9962 - val_loss: 0.0417 - val_accuracy: 0.9912\n",
            "Epoch 22/30\n",
            "525/525 [==============================] - 35s 67ms/step - loss: 0.0115 - accuracy: 0.9964 - val_loss: 0.0381 - val_accuracy: 0.9914\n",
            "Epoch 23/30\n",
            "525/525 [==============================] - 35s 67ms/step - loss: 0.0088 - accuracy: 0.9972 - val_loss: 0.0434 - val_accuracy: 0.9922\n",
            "Epoch 24/30\n",
            "525/525 [==============================] - 34s 65ms/step - loss: 0.0105 - accuracy: 0.9962 - val_loss: 0.0392 - val_accuracy: 0.9920\n",
            "Epoch 25/30\n",
            "525/525 [==============================] - 36s 68ms/step - loss: 0.0097 - accuracy: 0.9967 - val_loss: 0.0575 - val_accuracy: 0.9894\n",
            "Epoch 26/30\n",
            "525/525 [==============================] - 35s 67ms/step - loss: 0.0108 - accuracy: 0.9962 - val_loss: 0.0475 - val_accuracy: 0.9895\n",
            "Epoch 27/30\n",
            "525/525 [==============================] - 35s 67ms/step - loss: 0.0118 - accuracy: 0.9959 - val_loss: 0.0477 - val_accuracy: 0.9908\n",
            "Epoch 28/30\n",
            "525/525 [==============================] - 34s 65ms/step - loss: 0.0088 - accuracy: 0.9974 - val_loss: 0.0487 - val_accuracy: 0.9918\n",
            "Epoch 29/30\n",
            "525/525 [==============================] - 38s 73ms/step - loss: 0.0114 - accuracy: 0.9961 - val_loss: 0.0482 - val_accuracy: 0.9913\n",
            "Epoch 30/30\n",
            "525/525 [==============================] - 35s 67ms/step - loss: 0.0088 - accuracy: 0.9976 - val_loss: 0.0445 - val_accuracy: 0.9925\n"
          ]
        }
      ],
      "source": [
        "history = model.fit(\n",
        "    train_generator,\n",
        "    steps_per_epoch=train_generator.samples // BATCH_SIZE,\n",
        "    validation_data=validation_generator,\n",
        "    validation_steps=validation_generator.samples // BATCH_SIZE,\n",
        "    epochs=EPOCHS\n",
        ")\n"
      ]
    },
    {
      "cell_type": "markdown",
      "metadata": {
        "id": "NkixOlifDTrD"
      },
      "source": [
        "# Save the model\n"
      ]
    },
    {
      "cell_type": "code",
      "execution_count": 33,
      "metadata": {
        "id": "QRHqC4KSDTrD"
      },
      "outputs": [],
      "source": [
        "model.save('digit_classifier.h5')\n"
      ]
    },
    {
      "cell_type": "markdown",
      "metadata": {
        "id": "fYYZgmcFDTrE"
      },
      "source": [
        "# Plot the training/validation accuracy and loss\n"
      ]
    },
    {
      "cell_type": "code",
      "execution_count": 34,
      "metadata": {
        "colab": {
          "base_uri": "https://localhost:8080/",
          "height": 388
        },
        "id": "r9gm9kdqDTrE",
        "outputId": "d23ef183-e420-47b8-8e09-275d89b44f01"
      },
      "outputs": [
        {
          "output_type": "display_data",
          "data": {
            "text/plain": [
              "<Figure size 1200x400 with 2 Axes>"
            ],
            "image/png": "[encoded data removed]"
          },
          "metadata": {}
        }
      ],
      "source": [
        "plt.figure(figsize=(12, 4))\n",
        "plt.subplot(1, 2, 1)\n",
        "plt.plot(history.history['accuracy'], label='Training Accuracy')\n",
        "plt.plot(history.history['val_accuracy'], label='Validation Accuracy')\n",
        "plt.xlabel('Epoch')\n",
        "plt.ylabel('Accuracy')\n",
        "plt.legend()\n",
        "\n",
        "plt.subplot(1, 2, 2)\n",
        "plt.plot(history.history['loss'], label='Training Loss')\n",
        "plt.plot(history.history['val_loss'], label='Validation Loss')\n",
        "plt.xlabel('Epoch')\n",
        "plt.ylabel('Loss')\n",
        "plt.legend()\n",
        "\n",
        "plt.show()\n"
      ]
    },
    {
      "cell_type": "markdown",
      "metadata": {
        "id": "1dsI2hJaDTrE"
      },
      "source": [
        "# Install Tensor.js so that we can convert the h5 file to something that can be used in javascript\n"
      ]
    },
    {
      "cell_type": "code",
      "source": [
        "!pip install tensorflowjs\n",
        "!tensorflowjs_converter --input_format keras /content/digit_classifier.h5 /content//digit_classifier_tf"
      ],
      "metadata": {
        "colab": {
          "base_uri": "https://localhost:8080/"
        },
        "id": "ghrR-CyqF5eq",
        "outputId": "1f3507d9-3a2b-49bc-c22e-6b2decd08256"
      },
      "execution_count": 36,
      "outputs": [
        {
          "output_type": "stream",
          "name": "stdout",
          "text": [
            "Looking in indexes: https://pypi.org/simple, https://us-python.pkg.dev/colab-wheels/public/simple/\n",
            "Requirement already satisfied: tensorflowjs in /usr/local/lib/python3.9/dist-packages (4.4.0)\n",
            "Requirement already satisfied: six<2,>=1.12.0 in /usr/local/lib/python3.9/dist-packages (from tensorflowjs) (1.16.0)\n",
            "Requirement already satisfied: packaging~=20.9 in /usr/local/lib/python3.9/dist-packages (from tensorflowjs) (20.9)\n",
            "Requirement already satisfied: tensorflow-decision-forests>=1.0.1 in /usr/local/lib/python3.9/dist-packages (from tensorflowjs) (1.2.0)\n",
            "Requirement already satisfied: tensorflow<3,>=2.10.0 in /usr/local/lib/python3.9/dist-packages (from tensorflowjs) (2.11.1)\n",
            "Requirement already satisfied: tensorflow-hub<0.13,>=0.7.0 in /usr/local/lib/python3.9/dist-packages (from tensorflowjs) (0.12.0)\n",
            "Requirement already satisfied: flax>=0.6.2 in /usr/local/lib/python3.9/dist-packages (from tensorflowjs) (0.6.8)\n",
            "Requirement already satisfied: jax>=0.3.16 in /usr/local/lib/python3.9/dist-packages (from tensorflowjs) (0.4.7)\n",
            "Requirement already satisfied: protobuf<3.20,>=3.9.2 in /usr/local/lib/python3.9/dist-packages (from tensorflowjs) (3.19.6)\n",
            "Requirement already satisfied: importlib_resources>=5.9.0 in /usr/local/lib/python3.9/dist-packages (from tensorflowjs) (5.12.0)\n",
            "Requirement already satisfied: tensorstore in /usr/local/lib/python3.9/dist-packages (from flax>=0.6.2->tensorflowjs) (0.1.35)\n",
            "Requirement already satisfied: optax in /usr/local/lib/python3.9/dist-packages (from flax>=0.6.2->tensorflowjs) (0.1.4)\n",
            "Requirement already satisfied: PyYAML>=5.4.1 in /usr/local/lib/python3.9/dist-packages (from flax>=0.6.2->tensorflowjs) (6.0)\n",
            "Requirement already satisfied: orbax in /usr/local/lib/python3.9/dist-packages (from flax>=0.6.2->tensorflowjs) (0.1.7)\n",
            "Requirement already satisfied: rich>=11.1 in /usr/local/lib/python3.9/dist-packages (from flax>=0.6.2->tensorflowjs) (13.3.3)\n",
            "Requirement already satisfied: typing-extensions>=4.1.1 in /usr/local/lib/python3.9/dist-packages (from flax>=0.6.2->tensorflowjs) (4.5.0)\n",
            "Requirement already satisfied: msgpack in /usr/local/lib/python3.9/dist-packages (from flax>=0.6.2->tensorflowjs) (1.0.5)\n",
            "Requirement already satisfied: numpy>=1.12 in /usr/local/lib/python3.9/dist-packages (from flax>=0.6.2->tensorflowjs) (1.22.4)\n",
            "Requirement already satisfied: zipp>=3.1.0 in /usr/local/lib/python3.9/dist-packages (from importlib_resources>=5.9.0->tensorflowjs) (3.15.0)\n",
            "Requirement already satisfied: opt-einsum in /usr/local/lib/python3.9/dist-packages (from jax>=0.3.16->tensorflowjs) (3.3.0)\n",
            "Requirement already satisfied: scipy>=1.7 in /usr/local/lib/python3.9/dist-packages (from jax>=0.3.16->tensorflowjs) (1.10.1)\n",
            "Requirement already satisfied: ml-dtypes>=0.0.3 in /usr/local/lib/python3.9/dist-packages (from jax>=0.3.16->tensorflowjs) (0.0.4)\n",
            "Requirement already satisfied: pyparsing>=2.0.2 in /usr/local/lib/python3.9/dist-packages (from packaging~=20.9->tensorflowjs) (3.0.9)\n",
            "Requirement already satisfied: h5py>=2.9.0 in /usr/local/lib/python3.9/dist-packages (from tensorflow<3,>=2.10.0->tensorflowjs) (3.8.0)\n",
            "Requirement already satisfied: termcolor>=1.1.0 in /usr/local/lib/python3.9/dist-packages (from tensorflow<3,>=2.10.0->tensorflowjs) (2.2.0)\n",
            "Requirement already satisfied: gast<=0.4.0,>=0.2.1 in /usr/local/lib/python3.9/dist-packages (from tensorflow<3,>=2.10.0->tensorflowjs) (0.4.0)\n",
            "Requirement already satisfied: libclang>=13.0.0 in /usr/local/lib/python3.9/dist-packages (from tensorflow<3,>=2.10.0->tensorflowjs) (16.0.0)\n",
            "Requirement already satisfied: tensorflow-estimator<2.12,>=2.11.0 in /usr/local/lib/python3.9/dist-packages (from tensorflow<3,>=2.10.0->tensorflowjs) (2.11.0)\n",
            "Requirement already satisfied: google-pasta>=0.1.1 in /usr/local/lib/python3.9/dist-packages (from tensorflow<3,>=2.10.0->tensorflowjs) (0.2.0)\n",
            "Requirement already satisfied: grpcio<2.0,>=1.24.3 in /usr/local/lib/python3.9/dist-packages (from tensorflow<3,>=2.10.0->tensorflowjs) (1.53.0)\n",
            "Requirement already satisfied: flatbuffers>=2.0 in /usr/local/lib/python3.9/dist-packages (from tensorflow<3,>=2.10.0->tensorflowjs) (23.3.3)\n",
            "Requirement already satisfied: tensorflow-io-gcs-filesystem>=0.23.1 in /usr/local/lib/python3.9/dist-packages (from tensorflow<3,>=2.10.0->tensorflowjs) (0.32.0)\n",
            "Requirement already satisfied: tensorboard<2.12,>=2.11 in /usr/local/lib/python3.9/dist-packages (from tensorflow<3,>=2.10.0->tensorflowjs) (2.11.2)\n",
            "Requirement already satisfied: setuptools in /usr/local/lib/python3.9/dist-packages (from tensorflow<3,>=2.10.0->tensorflowjs) (67.6.1)\n",
            "Requirement already satisfied: absl-py>=1.0.0 in /usr/local/lib/python3.9/dist-packages (from tensorflow<3,>=2.10.0->tensorflowjs) (1.4.0)\n",
            "Requirement already satisfied: astunparse>=1.6.0 in /usr/local/lib/python3.9/dist-packages (from tensorflow<3,>=2.10.0->tensorflowjs) (1.6.3)\n",
            "Requirement already satisfied: keras<2.12,>=2.11.0 in /usr/local/lib/python3.9/dist-packages (from tensorflow<3,>=2.10.0->tensorflowjs) (2.11.0)\n",
            "Requirement already satisfied: wrapt>=1.11.0 in /usr/local/lib/python3.9/dist-packages (from tensorflow<3,>=2.10.0->tensorflowjs) (1.14.1)\n",
            "Requirement already satisfied: wheel in /usr/local/lib/python3.9/dist-packages (from tensorflow-decision-forests>=1.0.1->tensorflowjs) (0.40.0)\n",
            "Requirement already satisfied: pandas in /usr/local/lib/python3.9/dist-packages (from tensorflow-decision-forests>=1.0.1->tensorflowjs) (1.5.3)\n",
            "Requirement already satisfied: wurlitzer in /usr/local/lib/python3.9/dist-packages (from tensorflow-decision-forests>=1.0.1->tensorflowjs) (3.0.3)\n",
            "Requirement already satisfied: pygments<3.0.0,>=2.13.0 in /usr/local/lib/python3.9/dist-packages (from rich>=11.1->flax>=0.6.2->tensorflowjs) (2.14.0)\n",
            "Requirement already satisfied: markdown-it-py<3.0.0,>=2.2.0 in /usr/local/lib/python3.9/dist-packages (from rich>=11.1->flax>=0.6.2->tensorflowjs) (2.2.0)\n",
            "Requirement already satisfied: werkzeug>=1.0.1 in /usr/local/lib/python3.9/dist-packages (from tensorboard<2.12,>=2.11->tensorflow<3,>=2.10.0->tensorflowjs) (2.2.3)\n",
            "Requirement already satisfied: google-auth-oauthlib<0.5,>=0.4.1 in /usr/local/lib/python3.9/dist-packages (from tensorboard<2.12,>=2.11->tensorflow<3,>=2.10.0->tensorflowjs) (0.4.6)\n",
            "Requirement already satisfied: tensorboard-plugin-wit>=1.6.0 in /usr/local/lib/python3.9/dist-packages (from tensorboard<2.12,>=2.11->tensorflow<3,>=2.10.0->tensorflowjs) (1.8.1)\n",
            "Requirement already satisfied: google-auth<3,>=1.6.3 in /usr/local/lib/python3.9/dist-packages (from tensorboard<2.12,>=2.11->tensorflow<3,>=2.10.0->tensorflowjs) (2.17.2)\n",
            "Requirement already satisfied: requests<3,>=2.21.0 in /usr/local/lib/python3.9/dist-packages (from tensorboard<2.12,>=2.11->tensorflow<3,>=2.10.0->tensorflowjs) (2.27.1)\n",
            "Requirement already satisfied: tensorboard-data-server<0.7.0,>=0.6.0 in /usr/local/lib/python3.9/dist-packages (from tensorboard<2.12,>=2.11->tensorflow<3,>=2.10.0->tensorflowjs) (0.6.1)\n",
            "Requirement already satisfied: markdown>=2.6.8 in /usr/local/lib/python3.9/dist-packages (from tensorboard<2.12,>=2.11->tensorflow<3,>=2.10.0->tensorflowjs) (3.4.3)\n",
            "Requirement already satisfied: chex>=0.1.5 in /usr/local/lib/python3.9/dist-packages (from optax->flax>=0.6.2->tensorflowjs) (0.1.7)\n",
            "Requirement already satisfied: jaxlib>=0.1.37 in /usr/local/lib/python3.9/dist-packages (from optax->flax>=0.6.2->tensorflowjs) (0.4.7+cuda11.cudnn86)\n",
            "Requirement already satisfied: cached_property in /usr/local/lib/python3.9/dist-packages (from orbax->flax>=0.6.2->tensorflowjs) (1.5.2)\n",
            "Requirement already satisfied: nest_asyncio in /usr/local/lib/python3.9/dist-packages (from orbax->flax>=0.6.2->tensorflowjs) (1.5.6)\n",
            "Requirement already satisfied: etils in /usr/local/lib/python3.9/dist-packages (from orbax->flax>=0.6.2->tensorflowjs) (1.2.0)\n",
            "Requirement already satisfied: pytz>=2020.1 in /usr/local/lib/python3.9/dist-packages (from pandas->tensorflow-decision-forests>=1.0.1->tensorflowjs) (2022.7.1)\n",
            "Requirement already satisfied: python-dateutil>=2.8.1 in /usr/local/lib/python3.9/dist-packages (from pandas->tensorflow-decision-forests>=1.0.1->tensorflowjs) (2.8.2)\n",
            "Requirement already satisfied: dm-tree>=0.1.5 in /usr/local/lib/python3.9/dist-packages (from chex>=0.1.5->optax->flax>=0.6.2->tensorflowjs) (0.1.8)\n",
            "Requirement already satisfied: toolz>=0.9.0 in /usr/local/lib/python3.9/dist-packages (from chex>=0.1.5->optax->flax>=0.6.2->tensorflowjs) (0.12.0)\n",
            "Requirement already satisfied: cachetools<6.0,>=2.0.0 in /usr/local/lib/python3.9/dist-packages (from google-auth<3,>=1.6.3->tensorboard<2.12,>=2.11->tensorflow<3,>=2.10.0->tensorflowjs) (5.3.0)\n",
            "Requirement already satisfied: rsa<5,>=3.1.4 in /usr/local/lib/python3.9/dist-packages (from google-auth<3,>=1.6.3->tensorboard<2.12,>=2.11->tensorflow<3,>=2.10.0->tensorflowjs) (4.9)\n",
            "Requirement already satisfied: pyasn1-modules>=0.2.1 in /usr/local/lib/python3.9/dist-packages (from google-auth<3,>=1.6.3->tensorboard<2.12,>=2.11->tensorflow<3,>=2.10.0->tensorflowjs) (0.2.8)\n",
            "Requirement already satisfied: requests-oauthlib>=0.7.0 in /usr/local/lib/python3.9/dist-packages (from google-auth-oauthlib<0.5,>=0.4.1->tensorboard<2.12,>=2.11->tensorflow<3,>=2.10.0->tensorflowjs) (1.3.1)\n",
            "Requirement already satisfied: importlib-metadata>=4.4 in /usr/local/lib/python3.9/dist-packages (from markdown>=2.6.8->tensorboard<2.12,>=2.11->tensorflow<3,>=2.10.0->tensorflowjs) (6.2.0)\n",
            "Requirement already satisfied: mdurl~=0.1 in /usr/local/lib/python3.9/dist-packages (from markdown-it-py<3.0.0,>=2.2.0->rich>=11.1->flax>=0.6.2->tensorflowjs) (0.1.2)\n",
            "Requirement already satisfied: urllib3<1.27,>=1.21.1 in /usr/local/lib/python3.9/dist-packages (from requests<3,>=2.21.0->tensorboard<2.12,>=2.11->tensorflow<3,>=2.10.0->tensorflowjs) (1.26.15)\n",
            "Requirement already satisfied: certifi>=2017.4.17 in /usr/local/lib/python3.9/dist-packages (from requests<3,>=2.21.0->tensorboard<2.12,>=2.11->tensorflow<3,>=2.10.0->tensorflowjs) (2022.12.7)\n",
            "Requirement already satisfied: idna<4,>=2.5 in /usr/local/lib/python3.9/dist-packages (from requests<3,>=2.21.0->tensorboard<2.12,>=2.11->tensorflow<3,>=2.10.0->tensorflowjs) (3.4)\n",
            "Requirement already satisfied: charset-normalizer~=2.0.0 in /usr/local/lib/python3.9/dist-packages (from requests<3,>=2.21.0->tensorboard<2.12,>=2.11->tensorflow<3,>=2.10.0->tensorflowjs) (2.0.12)\n",
            "Requirement already satisfied: MarkupSafe>=2.1.1 in /usr/local/lib/python3.9/dist-packages (from werkzeug>=1.0.1->tensorboard<2.12,>=2.11->tensorflow<3,>=2.10.0->tensorflowjs) (2.1.2)\n",
            "Requirement already satisfied: pyasn1<0.5.0,>=0.4.6 in /usr/local/lib/python3.9/dist-packages (from pyasn1-modules>=0.2.1->google-auth<3,>=1.6.3->tensorboard<2.12,>=2.11->tensorflow<3,>=2.10.0->tensorflowjs) (0.4.8)\n",
            "Requirement already satisfied: oauthlib>=3.0.0 in /usr/local/lib/python3.9/dist-packages (from requests-oauthlib>=0.7.0->google-auth-oauthlib<0.5,>=0.4.1->tensorboard<2.12,>=2.11->tensorflow<3,>=2.10.0->tensorflowjs) (3.2.2)\n",
            "2023-04-13 01:33:08.356192: W tensorflow/compiler/xla/stream_executor/platform/default/dso_loader.cc:64] Could not load dynamic library 'libnvinfer.so.7'; dlerror: libnvinfer.so.7: cannot open shared object file: No such file or directory; LD_LIBRARY_PATH: /usr/local/nvidia/lib:/usr/local/nvidia/lib64\n",
            "2023-04-13 01:33:08.356300: W tensorflow/compiler/xla/stream_executor/platform/default/dso_loader.cc:64] Could not load dynamic library 'libnvinfer_plugin.so.7'; dlerror: libnvinfer_plugin.so.7: cannot open shared object file: No such file or directory; LD_LIBRARY_PATH: /usr/local/nvidia/lib:/usr/local/nvidia/lib64\n",
            "2023-04-13 01:33:08.356321: W tensorflow/compiler/tf2tensorrt/utils/py_utils.cc:38] TF-TRT Warning: Cannot dlopen some TensorRT libraries. If you would like to use Nvidia GPU with TensorRT, please make sure the missing libraries mentioned above are installed properly.\n",
            "WARNING:root:TensorFlow Decision Forests 1.2.0 is compatible with the following TensorFlow Versions: ['2.11.0']. However, TensorFlow 2.11.1 was detected. This can cause issues with the TF API and symbols in the custom C++ ops. See the TF and TF-DF compatibility table at https://github.com/tensorflow/decision-forests/blob/main/documentation/known_issues.md#compatibility-table.\n"
          ]
        }
      ]
    }
  ],
  "metadata": {
    "kernelspec": {
      "display_name": "Python 3",
      "language": "python",
      "name": "python3"
    },
    "language_info": {
      "name": "python",
      "version": "3.9.-1"
    },
    "orig_nbformat": 4,
    "colab": {
      "provenance": []
    }
  },
  "nbformat": 4,
  "nbformat_minor": 0
}